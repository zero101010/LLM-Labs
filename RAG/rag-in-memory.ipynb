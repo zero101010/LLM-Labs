{
 "cells": [
  {
   "cell_type": "code",
   "execution_count": 104,
   "metadata": {},
   "outputs": [
    {
     "name": "stderr",
     "output_type": "stream",
     "text": [
      "huggingface/tokenizers: The current process just got forked, after parallelism has already been used. Disabling parallelism to avoid deadlocks...\n",
      "To disable this warning, you can either:\n",
      "\t- Avoid using `tokenizers` before the fork if possible\n",
      "\t- Explicitly set the environment variable TOKENIZERS_PARALLELISM=(true | false)\n"
     ]
    },
    {
     "name": "stdout",
     "output_type": "stream",
     "text": [
      "Requirement already satisfied: openai in /Users/igoraraujo/Documents/ML-learning/venv/lib/python3.11/site-packages (1.74.0)\n",
      "Requirement already satisfied: pandas in /Users/igoraraujo/Documents/ML-learning/venv/lib/python3.11/site-packages (2.2.3)\n",
      "Requirement already satisfied: qdrant_client in /Users/igoraraujo/Documents/ML-learning/venv/lib/python3.11/site-packages (1.13.3)\n",
      "Requirement already satisfied: sentence_transformers in /Users/igoraraujo/Documents/ML-learning/venv/lib/python3.11/site-packages (4.0.2)\n",
      "Requirement already satisfied: anyio<5,>=3.5.0 in /Users/igoraraujo/Documents/ML-learning/venv/lib/python3.11/site-packages (from openai) (4.9.0)\n",
      "Requirement already satisfied: distro<2,>=1.7.0 in /Users/igoraraujo/Documents/ML-learning/venv/lib/python3.11/site-packages (from openai) (1.9.0)\n",
      "Requirement already satisfied: httpx<1,>=0.23.0 in /Users/igoraraujo/Documents/ML-learning/venv/lib/python3.11/site-packages (from openai) (0.28.1)\n",
      "Requirement already satisfied: jiter<1,>=0.4.0 in /Users/igoraraujo/Documents/ML-learning/venv/lib/python3.11/site-packages (from openai) (0.9.0)\n",
      "Requirement already satisfied: pydantic<3,>=1.9.0 in /Users/igoraraujo/Documents/ML-learning/venv/lib/python3.11/site-packages (from openai) (2.11.3)\n",
      "Requirement already satisfied: sniffio in /Users/igoraraujo/Documents/ML-learning/venv/lib/python3.11/site-packages (from openai) (1.3.1)\n",
      "Requirement already satisfied: tqdm>4 in /Users/igoraraujo/Documents/ML-learning/venv/lib/python3.11/site-packages (from openai) (4.67.1)\n",
      "Requirement already satisfied: typing-extensions<5,>=4.11 in /Users/igoraraujo/Documents/ML-learning/venv/lib/python3.11/site-packages (from openai) (4.12.2)\n",
      "Requirement already satisfied: numpy>=1.23.2 in /Users/igoraraujo/Documents/ML-learning/venv/lib/python3.11/site-packages (from pandas) (2.2.2)\n",
      "Requirement already satisfied: python-dateutil>=2.8.2 in /Users/igoraraujo/Documents/ML-learning/venv/lib/python3.11/site-packages (from pandas) (2.9.0.post0)\n",
      "Requirement already satisfied: pytz>=2020.1 in /Users/igoraraujo/Documents/ML-learning/venv/lib/python3.11/site-packages (from pandas) (2025.2)\n",
      "Requirement already satisfied: tzdata>=2022.7 in /Users/igoraraujo/Documents/ML-learning/venv/lib/python3.11/site-packages (from pandas) (2025.2)\n",
      "Requirement already satisfied: grpcio>=1.41.0 in /Users/igoraraujo/Documents/ML-learning/venv/lib/python3.11/site-packages (from qdrant_client) (1.71.0)\n",
      "Requirement already satisfied: grpcio-tools>=1.41.0 in /Users/igoraraujo/Documents/ML-learning/venv/lib/python3.11/site-packages (from qdrant_client) (1.71.0)\n",
      "Requirement already satisfied: portalocker<3.0.0,>=2.7.0 in /Users/igoraraujo/Documents/ML-learning/venv/lib/python3.11/site-packages (from qdrant_client) (2.10.1)\n",
      "Requirement already satisfied: urllib3<3,>=1.26.14 in /Users/igoraraujo/Documents/ML-learning/venv/lib/python3.11/site-packages (from qdrant_client) (2.3.0)\n",
      "Requirement already satisfied: transformers<5.0.0,>=4.41.0 in /Users/igoraraujo/Documents/ML-learning/venv/lib/python3.11/site-packages (from sentence_transformers) (4.48.2)\n",
      "Requirement already satisfied: torch>=1.11.0 in /Users/igoraraujo/Documents/ML-learning/venv/lib/python3.11/site-packages (from sentence_transformers) (2.6.0)\n",
      "Requirement already satisfied: scikit-learn in /Users/igoraraujo/Documents/ML-learning/venv/lib/python3.11/site-packages (from sentence_transformers) (1.6.1)\n",
      "Requirement already satisfied: scipy in /Users/igoraraujo/Documents/ML-learning/venv/lib/python3.11/site-packages (from sentence_transformers) (1.15.2)\n",
      "Requirement already satisfied: huggingface-hub>=0.20.0 in /Users/igoraraujo/Documents/ML-learning/venv/lib/python3.11/site-packages (from sentence_transformers) (0.28.1)\n",
      "Requirement already satisfied: Pillow in /Users/igoraraujo/Documents/ML-learning/venv/lib/python3.11/site-packages (from sentence_transformers) (11.1.0)\n",
      "Requirement already satisfied: idna>=2.8 in /Users/igoraraujo/Documents/ML-learning/venv/lib/python3.11/site-packages (from anyio<5,>=3.5.0->openai) (3.10)\n",
      "Requirement already satisfied: protobuf<6.0dev,>=5.26.1 in /Users/igoraraujo/Documents/ML-learning/venv/lib/python3.11/site-packages (from grpcio-tools>=1.41.0->qdrant_client) (5.29.3)\n",
      "Requirement already satisfied: setuptools in /Users/igoraraujo/Documents/ML-learning/venv/lib/python3.11/site-packages (from grpcio-tools>=1.41.0->qdrant_client) (67.6.1)\n",
      "Requirement already satisfied: certifi in /Users/igoraraujo/Documents/ML-learning/venv/lib/python3.11/site-packages (from httpx<1,>=0.23.0->openai) (2025.1.31)\n",
      "Requirement already satisfied: httpcore==1.* in /Users/igoraraujo/Documents/ML-learning/venv/lib/python3.11/site-packages (from httpx<1,>=0.23.0->openai) (1.0.8)\n",
      "Requirement already satisfied: h11<0.15,>=0.13 in /Users/igoraraujo/Documents/ML-learning/venv/lib/python3.11/site-packages (from httpcore==1.*->httpx<1,>=0.23.0->openai) (0.14.0)\n",
      "Requirement already satisfied: h2<5,>=3 in /Users/igoraraujo/Documents/ML-learning/venv/lib/python3.11/site-packages (from httpx<1,>=0.23.0->openai) (4.2.0)\n",
      "Requirement already satisfied: filelock in /Users/igoraraujo/Documents/ML-learning/venv/lib/python3.11/site-packages (from huggingface-hub>=0.20.0->sentence_transformers) (3.17.0)\n",
      "Requirement already satisfied: fsspec>=2023.5.0 in /Users/igoraraujo/Documents/ML-learning/venv/lib/python3.11/site-packages (from huggingface-hub>=0.20.0->sentence_transformers) (2025.2.0)\n",
      "Requirement already satisfied: packaging>=20.9 in /Users/igoraraujo/Documents/ML-learning/venv/lib/python3.11/site-packages (from huggingface-hub>=0.20.0->sentence_transformers) (24.2)\n",
      "Requirement already satisfied: pyyaml>=5.1 in /Users/igoraraujo/Documents/ML-learning/venv/lib/python3.11/site-packages (from huggingface-hub>=0.20.0->sentence_transformers) (6.0.2)\n",
      "Requirement already satisfied: requests in /Users/igoraraujo/Documents/ML-learning/venv/lib/python3.11/site-packages (from huggingface-hub>=0.20.0->sentence_transformers) (2.32.3)\n",
      "Requirement already satisfied: annotated-types>=0.6.0 in /Users/igoraraujo/Documents/ML-learning/venv/lib/python3.11/site-packages (from pydantic<3,>=1.9.0->openai) (0.7.0)\n",
      "Requirement already satisfied: pydantic-core==2.33.1 in /Users/igoraraujo/Documents/ML-learning/venv/lib/python3.11/site-packages (from pydantic<3,>=1.9.0->openai) (2.33.1)\n",
      "Requirement already satisfied: typing-inspection>=0.4.0 in /Users/igoraraujo/Documents/ML-learning/venv/lib/python3.11/site-packages (from pydantic<3,>=1.9.0->openai) (0.4.0)\n",
      "Requirement already satisfied: six>=1.5 in /Users/igoraraujo/Documents/ML-learning/venv/lib/python3.11/site-packages (from python-dateutil>=2.8.2->pandas) (1.17.0)\n",
      "Requirement already satisfied: networkx in /Users/igoraraujo/Documents/ML-learning/venv/lib/python3.11/site-packages (from torch>=1.11.0->sentence_transformers) (3.4.2)\n",
      "Requirement already satisfied: jinja2 in /Users/igoraraujo/Documents/ML-learning/venv/lib/python3.11/site-packages (from torch>=1.11.0->sentence_transformers) (3.1.5)\n",
      "Requirement already satisfied: sympy==1.13.1 in /Users/igoraraujo/Documents/ML-learning/venv/lib/python3.11/site-packages (from torch>=1.11.0->sentence_transformers) (1.13.1)\n",
      "Requirement already satisfied: mpmath<1.4,>=1.1.0 in /Users/igoraraujo/Documents/ML-learning/venv/lib/python3.11/site-packages (from sympy==1.13.1->torch>=1.11.0->sentence_transformers) (1.3.0)\n",
      "Requirement already satisfied: regex!=2019.12.17 in /Users/igoraraujo/Documents/ML-learning/venv/lib/python3.11/site-packages (from transformers<5.0.0,>=4.41.0->sentence_transformers) (2024.11.6)\n",
      "Requirement already satisfied: tokenizers<0.22,>=0.21 in /Users/igoraraujo/Documents/ML-learning/venv/lib/python3.11/site-packages (from transformers<5.0.0,>=4.41.0->sentence_transformers) (0.21.0)\n",
      "Requirement already satisfied: safetensors>=0.4.1 in /Users/igoraraujo/Documents/ML-learning/venv/lib/python3.11/site-packages (from transformers<5.0.0,>=4.41.0->sentence_transformers) (0.5.2)\n",
      "Requirement already satisfied: joblib>=1.2.0 in /Users/igoraraujo/Documents/ML-learning/venv/lib/python3.11/site-packages (from scikit-learn->sentence_transformers) (1.4.2)\n",
      "Requirement already satisfied: threadpoolctl>=3.1.0 in /Users/igoraraujo/Documents/ML-learning/venv/lib/python3.11/site-packages (from scikit-learn->sentence_transformers) (3.6.0)\n",
      "Requirement already satisfied: hyperframe<7,>=6.1 in /Users/igoraraujo/Documents/ML-learning/venv/lib/python3.11/site-packages (from h2<5,>=3->httpx<1,>=0.23.0->openai) (6.1.0)\n",
      "Requirement already satisfied: hpack<5,>=4.1 in /Users/igoraraujo/Documents/ML-learning/venv/lib/python3.11/site-packages (from h2<5,>=3->httpx<1,>=0.23.0->openai) (4.1.0)\n",
      "Requirement already satisfied: MarkupSafe>=2.0 in /Users/igoraraujo/Documents/ML-learning/venv/lib/python3.11/site-packages (from jinja2->torch>=1.11.0->sentence_transformers) (3.0.2)\n",
      "Requirement already satisfied: charset-normalizer<4,>=2 in /Users/igoraraujo/Documents/ML-learning/venv/lib/python3.11/site-packages (from requests->huggingface-hub>=0.20.0->sentence_transformers) (3.4.1)\n",
      "\n",
      "\u001b[1m[\u001b[0m\u001b[34;49mnotice\u001b[0m\u001b[1;39;49m]\u001b[0m\u001b[39;49m A new release of pip is available: \u001b[0m\u001b[31;49m23.0.1\u001b[0m\u001b[39;49m -> \u001b[0m\u001b[32;49m25.0.1\u001b[0m\n",
      "\u001b[1m[\u001b[0m\u001b[34;49mnotice\u001b[0m\u001b[1;39;49m]\u001b[0m\u001b[39;49m To update, run: \u001b[0m\u001b[32;49mpip install --upgrade pip\u001b[0m\n"
     ]
    }
   ],
   "source": [
    "!pip install openai pandas qdrant_client sentence_transformers"
   ]
  },
  {
   "cell_type": "code",
   "execution_count": 105,
   "metadata": {},
   "outputs": [
    {
     "data": {
      "text/html": [
       "<div>\n",
       "<style scoped>\n",
       "    .dataframe tbody tr th:only-of-type {\n",
       "        vertical-align: middle;\n",
       "    }\n",
       "\n",
       "    .dataframe tbody tr th {\n",
       "        vertical-align: top;\n",
       "    }\n",
       "\n",
       "    .dataframe thead th {\n",
       "        text-align: right;\n",
       "    }\n",
       "</style>\n",
       "<table border=\"1\" class=\"dataframe\">\n",
       "  <thead>\n",
       "    <tr style=\"text-align: right;\">\n",
       "      <th></th>\n",
       "      <th>name</th>\n",
       "      <th>region</th>\n",
       "      <th>variety</th>\n",
       "      <th>rating</th>\n",
       "      <th>notes</th>\n",
       "    </tr>\n",
       "  </thead>\n",
       "  <tbody>\n",
       "    <tr>\n",
       "      <th>0</th>\n",
       "      <td>3 Rings Reserve Shiraz 2004</td>\n",
       "      <td>Barossa Valley, Barossa, South Australia, Aust...</td>\n",
       "      <td>Red Wine</td>\n",
       "      <td>96.0</td>\n",
       "      <td>Vintage Comments : Classic Barossa vintage con...</td>\n",
       "    </tr>\n",
       "    <tr>\n",
       "      <th>1</th>\n",
       "      <td>Abreu Vineyards Cappella 2007</td>\n",
       "      <td>Napa Valley, California</td>\n",
       "      <td>Red Wine</td>\n",
       "      <td>96.0</td>\n",
       "      <td>Cappella is a proprietary blend of two clones ...</td>\n",
       "    </tr>\n",
       "    <tr>\n",
       "      <th>2</th>\n",
       "      <td>Abreu Vineyards Cappella 2010</td>\n",
       "      <td>Napa Valley, California</td>\n",
       "      <td>Red Wine</td>\n",
       "      <td>98.0</td>\n",
       "      <td>Cappella is one of the oldest vineyard sites i...</td>\n",
       "    </tr>\n",
       "    <tr>\n",
       "      <th>3</th>\n",
       "      <td>Abreu Vineyards Howell Mountain 2008</td>\n",
       "      <td>Howell Mountain, Napa Valley, California</td>\n",
       "      <td>Red Wine</td>\n",
       "      <td>96.0</td>\n",
       "      <td>When David purchased this Howell Mountain prop...</td>\n",
       "    </tr>\n",
       "    <tr>\n",
       "      <th>4</th>\n",
       "      <td>Abreu Vineyards Howell Mountain 2009</td>\n",
       "      <td>Howell Mountain, Napa Valley, California</td>\n",
       "      <td>Red Wine</td>\n",
       "      <td>98.0</td>\n",
       "      <td>As a set of wines, it is hard to surpass the f...</td>\n",
       "    </tr>\n",
       "  </tbody>\n",
       "</table>\n",
       "</div>"
      ],
      "text/plain": [
       "                                   name  \\\n",
       "0           3 Rings Reserve Shiraz 2004   \n",
       "1         Abreu Vineyards Cappella 2007   \n",
       "2         Abreu Vineyards Cappella 2010   \n",
       "3  Abreu Vineyards Howell Mountain 2008   \n",
       "4  Abreu Vineyards Howell Mountain 2009   \n",
       "\n",
       "                                              region   variety  rating  \\\n",
       "0  Barossa Valley, Barossa, South Australia, Aust...  Red Wine    96.0   \n",
       "1                            Napa Valley, California  Red Wine    96.0   \n",
       "2                            Napa Valley, California  Red Wine    98.0   \n",
       "3           Howell Mountain, Napa Valley, California  Red Wine    96.0   \n",
       "4           Howell Mountain, Napa Valley, California  Red Wine    98.0   \n",
       "\n",
       "                                               notes  \n",
       "0  Vintage Comments : Classic Barossa vintage con...  \n",
       "1  Cappella is a proprietary blend of two clones ...  \n",
       "2  Cappella is one of the oldest vineyard sites i...  \n",
       "3  When David purchased this Howell Mountain prop...  \n",
       "4  As a set of wines, it is hard to surpass the f...  "
      ]
     },
     "execution_count": 105,
     "metadata": {},
     "output_type": "execute_result"
    }
   ],
   "source": [
    "import pandas as pd\n",
    "df = pd.read_csv('https://raw.githubusercontent.com/alfredodeza/learn-retrieval-augmented-generation/refs/heads/main/top_rated_wines.csv')\n",
    "# df = df[df['variety'].notna()] # remove any NaN values as it blows up serialization\n",
    "data = df.sample(700).to_dict('records') # Get only 700 records. More records will make it slower to index\n",
    "# len(data)\n",
    "df.head()"
   ]
  },
  {
   "cell_type": "markdown",
   "metadata": {},
   "source": []
  },
  {
   "cell_type": "code",
   "execution_count": 106,
   "metadata": {},
   "outputs": [],
   "source": [
    "from qdrant_client import models, QdrantClient\n",
    "from sentence_transformers import SentenceTransformer"
   ]
  },
  {
   "cell_type": "code",
   "execution_count": 107,
   "metadata": {},
   "outputs": [],
   "source": [
    "# Choose the encoder that I will use to encode my text\n",
    "encoder = SentenceTransformer('all-MiniLM-L6-v2')"
   ]
  },
  {
   "cell_type": "code",
   "execution_count": 108,
   "metadata": {},
   "outputs": [],
   "source": [
    "# Create my vector database (Qdrant) in memory to test\n",
    "qdrant = QdrantClient(\":memory:\")"
   ]
  },
  {
   "cell_type": "code",
   "execution_count": 109,
   "metadata": {},
   "outputs": [
    {
     "data": {
      "text/plain": [
       "{'name': 'CADE Howell Mountain Estate Cabernet Sauvignon 2008',\n",
       " 'region': 'Howell Mountain, Napa Valley, California',\n",
       " 'variety': 'Red Wine',\n",
       " 'rating': 98.0,\n",
       " 'notes': 'We feel that the 2008 CADE Estate Cabernet Sauvignon eclipses our blockbuster 2007, the reasons being that theweather in October 2008 was fantastic with not a drop of rain falling during ripening season and harvest.'}"
      ]
     },
     "execution_count": 109,
     "metadata": {},
     "output_type": "execute_result"
    }
   ],
   "source": [
    "data[0]"
   ]
  },
  {
   "cell_type": "code",
   "execution_count": 110,
   "metadata": {},
   "outputs": [
    {
     "name": "stderr",
     "output_type": "stream",
     "text": [
      "/var/folders/t1/kcf8t4w56pqgsc616g595bfh0000gn/T/ipykernel_7556/3514914447.py:2: DeprecationWarning: `recreate_collection` method is deprecated and will be removed in the future. Use `collection_exists` to check collection existence and `create_collection` instead.\n",
      "  qdrant.recreate_collection(\n"
     ]
    },
    {
     "data": {
      "text/plain": [
       "True"
      ]
     },
     "execution_count": 110,
     "metadata": {},
     "output_type": "execute_result"
    }
   ],
   "source": [
    "# Create a collention\n",
    "qdrant.recreate_collection(\n",
    "    collection_name=\"wines\",\n",
    "    vectors_config=models.VectorParams(\n",
    "        size=encoder.get_sentence_embedding_dimension(),\n",
    "        # Study how this Discance works\n",
    "        distance=models.Distance.COSINE\n",
    "    )\n",
    ")"
   ]
  },
  {
   "cell_type": "code",
   "execution_count": 111,
   "metadata": {},
   "outputs": [],
   "source": [
    "qdrant.upload_points(\n",
    "    collection_name=\"wines\",\n",
    "    points=[\n",
    "        models.PointStruct(\n",
    "            id=idx,\n",
    "            # Semantic meaning to do a seach\n",
    "            vector=encoder.encode(doc['notes']).tolist(),\n",
    "            payload=doc,\n",
    "        ) for idx, doc in enumerate(data)\n",
    "    ],\n",
    ")\n",
    "\n"
   ]
  },
  {
   "cell_type": "code",
   "execution_count": 112,
   "metadata": {},
   "outputs": [],
   "source": [
    "user_prompt = \"Suggest me an amazing Malbec wine from Argentina\""
   ]
  },
  {
   "cell_type": "code",
   "execution_count": 113,
   "metadata": {},
   "outputs": [
    {
     "name": "stderr",
     "output_type": "stream",
     "text": [
      "/var/folders/t1/kcf8t4w56pqgsc616g595bfh0000gn/T/ipykernel_7556/19242341.py:2: DeprecationWarning: `search` method is deprecated and will be removed in the future. Use `query_points` instead.\n",
      "  hits = qdrant.search(\n"
     ]
    }
   ],
   "source": [
    "\n",
    "# Encoder the question and add this to the vector database\n",
    "hits = qdrant.search(\n",
    "    collection_name=\"wines\",\n",
    "    query_vector=encoder.encode(user_prompt).tolist(),\n",
    "    limit=3\n",
    ")"
   ]
  },
  {
   "cell_type": "code",
   "execution_count": 114,
   "metadata": {},
   "outputs": [
    {
     "name": "stdout",
     "output_type": "stream",
     "text": [
      "[{'name': 'Catena Zapata Argentino Vineyard Malbec 2004', 'region': 'Argentina', 'variety': 'Red Wine', 'rating': 98.0, 'notes': '\"The single-vineyard 2004 Malbec Argentino Vineyard spent 17 months in new French oak. Remarkably fragrant and complex aromatically, it offers up aromas of wood smoke, creosote, pepper, clove, black cherry, and blackberry. Made in a similar, elegant style, it is the most structured of the three single vineyard wines, needing a minimum of a decade of additional cellaring. It should easily prove to be a 25-40 year wine. It is an exceptional achievement in Malbec. When all is said and done, Catena Zapata is the Argentina winery of reference – the standard of excellence for comparing all others. The brilliant, forward-thinking Nicolas Catena remains in charge, with his daughter, Laura, playing an increasingly large role. The Catena Zapata winery is an essential destination for fans of both architecture and wine in Mendoza. It is hard to believe, given the surge in popularity of Malbec in recent years, that Catena Zapata only began exporting Malbec to the United States in 1994.\"'}, {'name': 'Bodega Colome Altura Maxima Malbec 2012', 'region': 'Salta, Argentina', 'variety': 'Red Wine', 'rating': 96.0, 'notes': 'Winemaker Thibaut Delmotte has crafted wines of distinction and international acclaim for Colome. He believes the Malbec from Altura Maxima Vineyard is the embodiment of two extremes - a traditional grape variety from his French origins made from the vineyard that challenges all convention in the modern viticultural world.'}, {'name': 'Catena Zapata Adrianna Vineyard Malbec 2004', 'region': 'Argentina', 'variety': 'Red Wine', 'rating': 97.0, 'notes': '\"The single-vineyard 2004 Malbec Adrianna Vineyard from the Gualtallary district is inky purple with aromas of wood smoke, pencil lead, game, black cherry, and blackberry liqueur. Opulent, full-flavored, yet remarkably light on its feet, this medium to full-bodied Malbec is all about pleasure. It will certainly evolve for a decade but is hard to resist now. It is a fine test of one\\'s ability to defer immediate gratification. When all is said and done, Catena Zapata is the Argentina winery of reference – the standard of excellence for comparing all others. The brilliant, forward-thinking Nicolas Catena remains in charge, with his daughter, Laura, playing an increasingly large role. The Catena Zapata winery is an essential destination for fans of both architecture and wine in Mendoza. It is hard to believe, given the surge in popularity of Malbec in recent years, that Catena Zapata only began exporting Malbec to the United States in 1994.\"'}]\n"
     ]
    }
   ],
   "source": [
    "# define a variable to hold the search results\n",
    "search_results = [hit.payload for hit in hits]\n",
    "print(search_results)"
   ]
  },
  {
   "cell_type": "code",
   "execution_count": 115,
   "metadata": {},
   "outputs": [
    {
     "name": "stdout",
     "output_type": "stream",
     "text": [
      "\n",
      "\n",
      "Okay, let's find you an amazing Malbec from Argentina! Based on the information I have, I’d strongly recommend the **Catena Zapata Argentino Vineyard Malbec 2004**. \n",
      "\n",
      "Here’s why:\n",
      "\n",
      "*   **Exceptional Rating:** It boasts a remarkable 98.0 rating, indicating it’s consistently lauded by critics.\n",
      "*   **Complex Aromas:** The notes describe a truly captivating bouquet – wood smoke, creosote, pepper, clove, black cherry, and blackberry – this speaks to a truly complex and well-aged wine. \n",
      "*   **Longevity:**  It’s designed to age for 25-40 years, meaning you’re investing in a wine that will continue to improve over time.\n",
      "\n",
      "**However**, the Catena Zapata Adrianna Vineyard Malbec 2004 and the Bodega Colome Altura Maxima are also fantastic choices and would certainly not disappoint. \n",
      "\n",
      "**To help me narrow it down further and make a truly personalized recommendation, could you tell me:**\n",
      "\n",
      "*   **What's your budget?** (e.g., under $30, $30-$60, splurge!)\n",
      "*   **What are you planning to eat with it?** (e.g., steak, pasta, grilled vegetables)\n",
      "*   **What kind of flavors do you generally enjoy in wine?** (e.g., fruity, bold, earthy, spicy, oaky)\n"
     ]
    }
   ],
   "source": [
    "from openai import OpenAI\n",
    "client = OpenAI(\n",
    "    api_key=\"sk-...\",\n",
    "    base_url=\"http://127.0.0.1:8080/v1\",\n",
    ")\n",
    "\n",
    "completition = client.chat.completions.create(\n",
    "    model=\"gemma3:4b\",\n",
    "    messages=[\n",
    "        {\"role\": \"system\", \"content\": \"You are chatbot, a wine specialist. Your top priority is to help guide users into selecting amazing wine and guide them with their requests.\"},\n",
    "        {\"role\": \"user\", \"content\": user_prompt},\n",
    "        {\"role\": \"assistant\", \"content\": str(search_results)}\n",
    "    ]\n",
    ")\n",
    "print(completition.choices[0].message.content)"
   ]
  }
 ],
 "metadata": {
  "kernelspec": {
   "display_name": "venv",
   "language": "python",
   "name": "python3"
  },
  "language_info": {
   "codemirror_mode": {
    "name": "ipython",
    "version": 3
   },
   "file_extension": ".py",
   "mimetype": "text/x-python",
   "name": "python",
   "nbconvert_exporter": "python",
   "pygments_lexer": "ipython3",
   "version": "3.11.11"
  }
 },
 "nbformat": 4,
 "nbformat_minor": 2
}
